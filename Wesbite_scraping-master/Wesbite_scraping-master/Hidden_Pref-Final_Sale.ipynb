{
 "cells": [
  {
   "cell_type": "code",
   "execution_count": 1,
   "metadata": {},
   "outputs": [],
   "source": [
    "import cfscrape\n",
    "import re\n",
    "from bs4 import BeautifulSoup\n",
    "from ebooklib import epub\n",
    "import json\n",
    "import geocoder\n",
    "import logging\n",
    "import requests\n",
    "import objectpath\n",
    "import json\n",
    "from ast import literal_eval\n",
    "import pandas as pd\n",
    "# Get the text at the set URL\n",
    "scraper = cfscrape.create_scraper()"
   ]
  },
  {
   "cell_type": "code",
   "execution_count": 2,
   "metadata": {
    "scrolled": true
   },
   "outputs": [
    {
     "name": "stdout",
     "output_type": "stream",
     "text": [
      "https://www.rumah123.com/en/sale/all-residential/?minPrice=100000000&q=jakarta&page=0\n",
      "https://www.rumah123.com/en/sale/all-residential/?minPrice=100000000&q=jakarta&page=1\n",
      "https://www.rumah123.com/en/sale/all-residential/?minPrice=100000000&q=jakarta&page=2\n",
      "https://www.rumah123.com/en/sale/all-residential/?minPrice=100000000&q=jakarta&page=3\n",
      "https://www.rumah123.com/en/sale/all-residential/?minPrice=100000000&q=jakarta&page=4\n",
      "https://www.rumah123.com/en/sale/all-residential/?minPrice=100000000&q=jakarta&page=5\n",
      "https://www.rumah123.com/en/sale/all-residential/?minPrice=100000000&q=jakarta&page=6\n",
      "https://www.rumah123.com/en/sale/all-residential/?minPrice=100000000&q=jakarta&page=7\n",
      "https://www.rumah123.com/en/sale/all-residential/?minPrice=100000000&q=jakarta&page=8\n",
      "https://www.rumah123.com/en/sale/all-residential/?minPrice=100000000&q=jakarta&page=9\n",
      "https://www.rumah123.com/en/sale/all-residential/?minPrice=100000000&q=jakarta&page=10\n",
      "https://www.rumah123.com/en/sale/all-residential/?minPrice=100000000&q=jakarta&page=11\n",
      "https://www.rumah123.com/en/sale/all-residential/?minPrice=100000000&q=jakarta&page=12\n",
      "https://www.rumah123.com/en/sale/all-residential/?minPrice=100000000&q=jakarta&page=13\n",
      "https://www.rumah123.com/en/sale/all-residential/?minPrice=100000000&q=jakarta&page=14\n",
      "https://www.rumah123.com/en/sale/all-residential/?minPrice=100000000&q=jakarta&page=15\n",
      "https://www.rumah123.com/en/sale/all-residential/?minPrice=100000000&q=jakarta&page=16\n",
      "https://www.rumah123.com/en/sale/all-residential/?minPrice=100000000&q=jakarta&page=17\n",
      "https://www.rumah123.com/en/sale/all-residential/?minPrice=100000000&q=jakarta&page=18\n",
      "https://www.rumah123.com/en/sale/all-residential/?minPrice=100000000&q=jakarta&page=19\n",
      "https://www.rumah123.com/en/sale/all-residential/?minPrice=100000000&q=jakarta&page=20\n",
      "https://www.rumah123.com/en/sale/all-residential/?minPrice=100000000&q=jakarta&page=21\n",
      "https://www.rumah123.com/en/sale/all-residential/?minPrice=100000000&q=jakarta&page=22\n",
      "https://www.rumah123.com/en/sale/all-residential/?minPrice=100000000&q=jakarta&page=23\n",
      "https://www.rumah123.com/en/sale/all-residential/?minPrice=100000000&q=jakarta&page=24\n",
      "https://www.rumah123.com/en/sale/all-residential/?minPrice=100000000&q=jakarta&page=25\n",
      "https://www.rumah123.com/en/sale/all-residential/?minPrice=100000000&q=jakarta&page=26\n",
      "https://www.rumah123.com/en/sale/all-residential/?minPrice=100000000&q=jakarta&page=27\n",
      "https://www.rumah123.com/en/sale/all-residential/?minPrice=100000000&q=jakarta&page=28\n",
      "https://www.rumah123.com/en/sale/all-residential/?minPrice=100000000&q=jakarta&page=29\n",
      "https://www.rumah123.com/en/sale/all-residential/?minPrice=100000000&q=jakarta&page=30\n",
      "https://www.rumah123.com/en/sale/all-residential/?minPrice=100000000&q=jakarta&page=31\n",
      "https://www.rumah123.com/en/sale/all-residential/?minPrice=100000000&q=jakarta&page=32\n",
      "https://www.rumah123.com/en/sale/all-residential/?minPrice=100000000&q=jakarta&page=33\n",
      "https://www.rumah123.com/en/sale/all-residential/?minPrice=100000000&q=jakarta&page=34\n",
      "https://www.rumah123.com/en/sale/all-residential/?minPrice=100000000&q=jakarta&page=35\n",
      "https://www.rumah123.com/en/sale/all-residential/?minPrice=100000000&q=jakarta&page=36\n",
      "https://www.rumah123.com/en/sale/all-residential/?minPrice=100000000&q=jakarta&page=37\n",
      "https://www.rumah123.com/en/sale/all-residential/?minPrice=100000000&q=jakarta&page=38\n",
      "https://www.rumah123.com/en/sale/all-residential/?minPrice=100000000&q=jakarta&page=39\n",
      "https://www.rumah123.com/en/sale/all-residential/?minPrice=100000000&q=jakarta&page=40\n",
      "https://www.rumah123.com/en/sale/all-residential/?minPrice=100000000&q=jakarta&page=41\n",
      "https://www.rumah123.com/en/sale/all-residential/?minPrice=100000000&q=jakarta&page=42\n",
      "https://www.rumah123.com/en/sale/all-residential/?minPrice=100000000&q=jakarta&page=43\n",
      "https://www.rumah123.com/en/sale/all-residential/?minPrice=100000000&q=jakarta&page=44\n",
      "https://www.rumah123.com/en/sale/all-residential/?minPrice=100000000&q=jakarta&page=45\n",
      "https://www.rumah123.com/en/sale/all-residential/?minPrice=100000000&q=jakarta&page=46\n",
      "https://www.rumah123.com/en/sale/all-residential/?minPrice=100000000&q=jakarta&page=47\n",
      "https://www.rumah123.com/en/sale/all-residential/?minPrice=100000000&q=jakarta&page=48\n",
      "https://www.rumah123.com/en/sale/all-residential/?minPrice=100000000&q=jakarta&page=49\n"
     ]
    },
    {
     "data": {
      "text/html": [
       "<div>\n",
       "<style scoped>\n",
       "    .dataframe tbody tr th:only-of-type {\n",
       "        vertical-align: middle;\n",
       "    }\n",
       "\n",
       "    .dataframe tbody tr th {\n",
       "        vertical-align: top;\n",
       "    }\n",
       "\n",
       "    .dataframe thead th {\n",
       "        text-align: right;\n",
       "    }\n",
       "</style>\n",
       "<table border=\"1\" class=\"dataframe\">\n",
       "  <thead>\n",
       "    <tr style=\"text-align: right;\">\n",
       "      <th></th>\n",
       "      <th>Address</th>\n",
       "      <th>lat</th>\n",
       "      <th>lng</th>\n",
       "      <th>price</th>\n",
       "      <th>Installment</th>\n",
       "      <th>level</th>\n",
       "      <th>title</th>\n",
       "    </tr>\n",
       "  </thead>\n",
       "  <tbody>\n",
       "    <tr>\n",
       "      <th>0</th>\n",
       "      <td>Kemang, Jakarta Selatan</td>\n",
       "      <td>-6.17544</td>\n",
       "      <td>106.828</td>\n",
       "      <td>7900000000</td>\n",
       "      <td>45330000</td>\n",
       "      <td>DKI Jakarta,Jakarta Selatan,Kemang</td>\n",
       "      <td>Rumah di Kemang, Jakarta Selatan ~ Furnished ~...</td>\n",
       "    </tr>\n",
       "    <tr>\n",
       "      <th>1</th>\n",
       "      <td>Senayan, Jakarta Selatan</td>\n",
       "      <td>-6.25046</td>\n",
       "      <td>106.787</td>\n",
       "      <td>4200000000</td>\n",
       "      <td>24100000</td>\n",
       "      <td>DKI Jakarta,Jakarta Selatan,Senayan</td>\n",
       "      <td>Apartemen Senayan Residence ~ Fully Furnished ...</td>\n",
       "    </tr>\n",
       "    <tr>\n",
       "      <th>2</th>\n",
       "      <td>Pancoran, Jakarta Selatan</td>\n",
       "      <td>None</td>\n",
       "      <td>None</td>\n",
       "      <td>3500000000</td>\n",
       "      <td>None</td>\n",
       "      <td>DKI Jakarta,Jakarta Selatan,Pancoran</td>\n",
       "      <td>The Loggia</td>\n",
       "    </tr>\n",
       "    <tr>\n",
       "      <th>3</th>\n",
       "      <td>Kemang, Jakarta Selatan</td>\n",
       "      <td>-6.26694</td>\n",
       "      <td>106.824</td>\n",
       "      <td>13900000000</td>\n",
       "      <td>79760000</td>\n",
       "      <td>DKI Jakarta,Jakarta Selatan,Kemang</td>\n",
       "      <td>Kemang/Ampera-Murah ! Rumah 1 lantai halaman l...</td>\n",
       "    </tr>\n",
       "    <tr>\n",
       "      <th>4</th>\n",
       "      <td>Kalideres, Jakarta Barat</td>\n",
       "      <td>-6.09723</td>\n",
       "      <td>106.7</td>\n",
       "      <td>510000000</td>\n",
       "      <td>2930000</td>\n",
       "      <td>DKI Jakarta,Jakarta Barat,Kalideres</td>\n",
       "      <td>Rumah Murah Minimalis Cambela Permai !!, Kalid...</td>\n",
       "    </tr>\n",
       "  </tbody>\n",
       "</table>\n",
       "</div>"
      ],
      "text/plain": [
       "                     Address      lat      lng        price Installment  \\\n",
       "0    Kemang, Jakarta Selatan -6.17544  106.828   7900000000    45330000   \n",
       "1   Senayan, Jakarta Selatan -6.25046  106.787   4200000000    24100000   \n",
       "2  Pancoran, Jakarta Selatan     None     None   3500000000        None   \n",
       "3    Kemang, Jakarta Selatan -6.26694  106.824  13900000000    79760000   \n",
       "4   Kalideres, Jakarta Barat -6.09723    106.7    510000000     2930000   \n",
       "\n",
       "                                  level  \\\n",
       "0    DKI Jakarta,Jakarta Selatan,Kemang   \n",
       "1   DKI Jakarta,Jakarta Selatan,Senayan   \n",
       "2  DKI Jakarta,Jakarta Selatan,Pancoran   \n",
       "3    DKI Jakarta,Jakarta Selatan,Kemang   \n",
       "4   DKI Jakarta,Jakarta Barat,Kalideres   \n",
       "\n",
       "                                               title  \n",
       "0  Rumah di Kemang, Jakarta Selatan ~ Furnished ~...  \n",
       "1  Apartemen Senayan Residence ~ Fully Furnished ...  \n",
       "2                                         The Loggia  \n",
       "3  Kemang/Ampera-Murah ! Rumah 1 lantai halaman l...  \n",
       "4  Rumah Murah Minimalis Cambela Permai !!, Kalid...  "
      ]
     },
     "execution_count": 2,
     "metadata": {},
     "output_type": "execute_result"
    }
   ],
   "source": [
    "a=[]\n",
    "b=[]\n",
    "c=[]\n",
    "d=[]\n",
    "e=[]\n",
    "f=[]\n",
    "g=[]\n",
    "baseurl=\"https://www.rumah123.com/en/sale/all-residential/?minPrice=100000000&q=jakarta&page=\"\n",
    "valid_pages = list(range(0,50,1))\n",
    "for n in range(len(valid_pages)):\n",
    "    urlPrefix = f'{baseurl}{valid_pages[n]}'\n",
    "    print(urlPrefix)\n",
    "    #####################\n",
    "    # Set the adress here\n",
    "    strpage = requests.get(urlPrefix)\n",
    "    # Modifies the HTML received\n",
    "    soup = BeautifulSoup(strpage.content, 'html5lib')\n",
    "    for i in soup.find_all('script'):\n",
    "        if type(i.text) == str and i.text.strip().startswith('window.__INITIAL_STATE'):\n",
    "            t = i.text.strip()\n",
    "            t = t[t.find('{'):]\n",
    "            t = t[:1+t.rfind('}')]\n",
    "            data=json.loads(t)\n",
    "            break\n",
    "\n",
    "    for i in range(0,len(data[\"listings\"][\"items\"])):\n",
    "        address=data[\"listings\"][\"items\"][i][\"address\"][\"formattedAddress\"]\n",
    "        a.append(address)\n",
    "        if \"lat\" not in data[\"listings\"][\"items\"][i][\"address\"].keys():\n",
    "            lat=\"None\"\n",
    "        else:\n",
    "            lat=data[\"listings\"][\"items\"][i][\"address\"][\"lat\"]\n",
    "        b.append(lat)\n",
    "        if \"lng\" not in data[\"listings\"][\"items\"][i][\"address\"].keys():\n",
    "            lng=\"None\"\n",
    "        else:\n",
    "            lng=data[\"listings\"][\"items\"][i][\"address\"][\"lng\"]\n",
    "        c.append(lng)\n",
    "\n",
    "        price=data[\"listings\"][\"items\"][i][\"prices\"][0][\"max\"]\n",
    "        d.append(price)\n",
    "        if \"monthlyPayment\" not in data[\"listings\"][\"items\"][i][\"prices\"][0].keys():\n",
    "            installment=\"None\"\n",
    "        else:\n",
    "            installment=data[\"listings\"][\"items\"][i][\"prices\"][0][\"monthlyPayment\"]\n",
    "        e.append(installment)\n",
    "        \n",
    "        if \"level1\" not in data[\"listings\"][\"items\"][i][\"multilanguagePlace\"][\"en-GB\"].keys():\n",
    "            level=\"None\"\n",
    "        else:\n",
    "            level=data[\"listings\"][\"items\"][i][\"multilanguagePlace\"][\"en-GB\"][\"level1\"]+\",\"+data[\"listings\"][\"items\"][i][\"multilanguagePlace\"][\"en-GB\"][\"level2\"]+\",\"+data[\"listings\"][\"items\"][i][\"multilanguagePlace\"][\"en-GB\"][\"level3\"]\n",
    "        f.append(level)\n",
    "        \n",
    "        title=data[\"listings\"][\"items\"][i][\"title\"]\n",
    "        g.append(title)\n",
    "            \n",
    "tmp= list([a,b,c,d,e,f,g])\n",
    "final_df=pd.DataFrame(tmp).T\n",
    "final_df2=pd.DataFrame()\n",
    "final_df2[\"Address\"]=final_df[0]\n",
    "final_df2[\"lat\"]=final_df[1]\n",
    "final_df2[\"lng\"]=final_df[2]\n",
    "final_df2[\"price\"]=final_df[3]\n",
    "final_df2[\"Installment\"]=final_df[4]\n",
    "final_df2[\"level\"]=final_df[5]\n",
    "final_df2[\"title\"]=final_df[6]\n",
    "final_df2.drop_duplicates()\n",
    "final_df2.head()"
   ]
  },
  {
   "cell_type": "code",
   "execution_count": 3,
   "metadata": {},
   "outputs": [
    {
     "data": {
      "text/plain": [
       "(1000, 7)"
      ]
     },
     "execution_count": 3,
     "metadata": {},
     "output_type": "execute_result"
    }
   ],
   "source": [
    "final_df2.shape"
   ]
  },
  {
   "cell_type": "code",
   "execution_count": 4,
   "metadata": {},
   "outputs": [],
   "source": [
    "original_index= final_df2.index"
   ]
  },
  {
   "cell_type": "code",
   "execution_count": 5,
   "metadata": {},
   "outputs": [
    {
     "data": {
      "text/plain": [
       "20"
      ]
     },
     "execution_count": 5,
     "metadata": {},
     "output_type": "execute_result"
    }
   ],
   "source": [
    "len(data[\"listings\"][\"items\"])"
   ]
  },
  {
   "cell_type": "code",
   "execution_count": 15,
   "metadata": {},
   "outputs": [
    {
     "data": {
      "text/plain": [
       "{'level1': 'Banten', 'level2': 'Tangerang', 'level3': 'Larangan'}"
      ]
     },
     "execution_count": 15,
     "metadata": {},
     "output_type": "execute_result"
    }
   ],
   "source": [
    "# data[\"listings\"][\"items\"][0][\"multilanguagePlace\"][\"en-GB\"]"
   ]
  },
  {
   "cell_type": "code",
   "execution_count": 17,
   "metadata": {},
   "outputs": [
    {
     "data": {
      "text/plain": [
       "'Clover Hill Residence'"
      ]
     },
     "execution_count": 17,
     "metadata": {},
     "output_type": "execute_result"
    }
   ],
   "source": [
    "# data[\"listings\"][\"items\"][0][\"title\"]"
   ]
  },
  {
   "cell_type": "code",
   "execution_count": 6,
   "metadata": {},
   "outputs": [],
   "source": [
    "# data[\"listings\"][\"items\"][1]"
   ]
  },
  {
   "cell_type": "code",
   "execution_count": null,
   "metadata": {},
   "outputs": [],
   "source": [
    "# i=12\n",
    "# address=data[\"listings\"][\"items\"][i][\"address\"][\"formattedAddress\"]\n",
    "# lat=data[\"listings\"][\"items\"][i][\"address\"][\"lat\"]\n",
    "# lng=data[\"listings\"][\"items\"][i][\"address\"][\"lng\"]\n",
    "# print(address,\"DONE\",lat,\"DONE\",lng,\"DONE\")"
   ]
  },
  {
   "cell_type": "code",
   "execution_count": null,
   "metadata": {},
   "outputs": [],
   "source": [
    "# address=data[\"listings\"][\"items\"][18][\"address\"][\"formattedAddress\"]\n",
    "# lat=data[\"listings\"][\"items\"][18][\"address\"][\"lat\"]\n",
    "# lng=data[\"listings\"][\"items\"][18][\"address\"][\"lng\"]\n",
    "# currency=data[\"listings\"][\"items\"][18][\"prices\"][0][\"currency\"]\n",
    "# price=data[\"listings\"][\"items\"][18][\"prices\"][0][\"max\"]\n",
    "# installment=data[\"listings\"][\"items\"][18][\"prices\"][0][\"monthlyPayment\"]"
   ]
  },
  {
   "cell_type": "code",
   "execution_count": 7,
   "metadata": {},
   "outputs": [],
   "source": [
    "# data"
   ]
  },
  {
   "cell_type": "code",
   "execution_count": 8,
   "metadata": {},
   "outputs": [
    {
     "data": {
      "text/html": [
       "<div>\n",
       "<style scoped>\n",
       "    .dataframe tbody tr th:only-of-type {\n",
       "        vertical-align: middle;\n",
       "    }\n",
       "\n",
       "    .dataframe tbody tr th {\n",
       "        vertical-align: top;\n",
       "    }\n",
       "\n",
       "    .dataframe thead th {\n",
       "        text-align: right;\n",
       "    }\n",
       "</style>\n",
       "<table border=\"1\" class=\"dataframe\">\n",
       "  <thead>\n",
       "    <tr style=\"text-align: right;\">\n",
       "      <th></th>\n",
       "      <th>Address</th>\n",
       "      <th>lat</th>\n",
       "      <th>lng</th>\n",
       "      <th>price</th>\n",
       "      <th>Installment</th>\n",
       "      <th>level</th>\n",
       "      <th>title</th>\n",
       "    </tr>\n",
       "  </thead>\n",
       "  <tbody>\n",
       "    <tr>\n",
       "      <th>0</th>\n",
       "      <td>Kemang, Jakarta Selatan</td>\n",
       "      <td>-6.17544</td>\n",
       "      <td>106.828</td>\n",
       "      <td>7900000000</td>\n",
       "      <td>45330000</td>\n",
       "      <td>DKI Jakarta,Jakarta Selatan,Kemang</td>\n",
       "      <td>Rumah di Kemang, Jakarta Selatan ~ Furnished ~...</td>\n",
       "    </tr>\n",
       "    <tr>\n",
       "      <th>1</th>\n",
       "      <td>Senayan, Jakarta Selatan</td>\n",
       "      <td>-6.25046</td>\n",
       "      <td>106.787</td>\n",
       "      <td>4200000000</td>\n",
       "      <td>24100000</td>\n",
       "      <td>DKI Jakarta,Jakarta Selatan,Senayan</td>\n",
       "      <td>Apartemen Senayan Residence ~ Fully Furnished ...</td>\n",
       "    </tr>\n",
       "    <tr>\n",
       "      <th>2</th>\n",
       "      <td>Pancoran, Jakarta Selatan</td>\n",
       "      <td>None</td>\n",
       "      <td>None</td>\n",
       "      <td>3500000000</td>\n",
       "      <td>None</td>\n",
       "      <td>DKI Jakarta,Jakarta Selatan,Pancoran</td>\n",
       "      <td>The Loggia</td>\n",
       "    </tr>\n",
       "    <tr>\n",
       "      <th>3</th>\n",
       "      <td>Kemang, Jakarta Selatan</td>\n",
       "      <td>-6.26694</td>\n",
       "      <td>106.824</td>\n",
       "      <td>13900000000</td>\n",
       "      <td>79760000</td>\n",
       "      <td>DKI Jakarta,Jakarta Selatan,Kemang</td>\n",
       "      <td>Kemang/Ampera-Murah ! Rumah 1 lantai halaman l...</td>\n",
       "    </tr>\n",
       "    <tr>\n",
       "      <th>4</th>\n",
       "      <td>Kalideres, Jakarta Barat</td>\n",
       "      <td>-6.09723</td>\n",
       "      <td>106.7</td>\n",
       "      <td>510000000</td>\n",
       "      <td>2930000</td>\n",
       "      <td>DKI Jakarta,Jakarta Barat,Kalideres</td>\n",
       "      <td>Rumah Murah Minimalis Cambela Permai !!, Kalid...</td>\n",
       "    </tr>\n",
       "    <tr>\n",
       "      <th>5</th>\n",
       "      <td>Kemang, Jakarta Selatan</td>\n",
       "      <td>None</td>\n",
       "      <td>None</td>\n",
       "      <td>9950000000</td>\n",
       "      <td>57090000</td>\n",
       "      <td>DKI Jakarta,Jakarta Selatan,Kemang</td>\n",
       "      <td>Rumah Super Cantik @ Kemang Area Jakarta Selat...</td>\n",
       "    </tr>\n",
       "    <tr>\n",
       "      <th>6</th>\n",
       "      <td>Mampang Prapatan, Jakarta Selatan</td>\n",
       "      <td>None</td>\n",
       "      <td>None</td>\n",
       "      <td>2500000000</td>\n",
       "      <td>14350000</td>\n",
       "      <td>DKI Jakarta,Jakarta Selatan,Mampang Prapatan</td>\n",
       "      <td>Dijual Rumah Kos Baru @ Pondok Jaya., Mampang ...</td>\n",
       "    </tr>\n",
       "    <tr>\n",
       "      <th>7</th>\n",
       "      <td>Pesanggarahan, Jakarta Selatan</td>\n",
       "      <td>-6.22366</td>\n",
       "      <td>106.763</td>\n",
       "      <td>3200000000</td>\n",
       "      <td>18360000</td>\n",
       "      <td>DKI Jakarta,Jakarta Selatan,Pesanggarahan</td>\n",
       "      <td>permata mediterania pos pengumben jakarta sela...</td>\n",
       "    </tr>\n",
       "    <tr>\n",
       "      <th>8</th>\n",
       "      <td>Kemang, Jakarta Selatan</td>\n",
       "      <td>-6.26694</td>\n",
       "      <td>106.824</td>\n",
       "      <td>6000000000</td>\n",
       "      <td>34430000</td>\n",
       "      <td>DKI Jakarta,Jakarta Selatan,Kemang</td>\n",
       "      <td>@BANGKA~LB/LT : 350/152 ~FURNISH~6M ,JAKARTA S...</td>\n",
       "    </tr>\n",
       "    <tr>\n",
       "      <th>9</th>\n",
       "      <td>Kemang, Jakarta Selatan</td>\n",
       "      <td>-6.17544</td>\n",
       "      <td>106.828</td>\n",
       "      <td>3000000000</td>\n",
       "      <td>17210000</td>\n",
       "      <td>DKI Jakarta,Jakarta Selatan,Kemang</td>\n",
       "      <td>Apartmen Kemang Jaya ~  2 Bedrooms ~ Siap Huni...</td>\n",
       "    </tr>\n",
       "  </tbody>\n",
       "</table>\n",
       "</div>"
      ],
      "text/plain": [
       "                             Address      lat      lng        price  \\\n",
       "0            Kemang, Jakarta Selatan -6.17544  106.828   7900000000   \n",
       "1           Senayan, Jakarta Selatan -6.25046  106.787   4200000000   \n",
       "2          Pancoran, Jakarta Selatan     None     None   3500000000   \n",
       "3            Kemang, Jakarta Selatan -6.26694  106.824  13900000000   \n",
       "4           Kalideres, Jakarta Barat -6.09723    106.7    510000000   \n",
       "5            Kemang, Jakarta Selatan     None     None   9950000000   \n",
       "6  Mampang Prapatan, Jakarta Selatan     None     None   2500000000   \n",
       "7     Pesanggarahan, Jakarta Selatan -6.22366  106.763   3200000000   \n",
       "8            Kemang, Jakarta Selatan -6.26694  106.824   6000000000   \n",
       "9            Kemang, Jakarta Selatan -6.17544  106.828   3000000000   \n",
       "\n",
       "  Installment                                         level  \\\n",
       "0    45330000            DKI Jakarta,Jakarta Selatan,Kemang   \n",
       "1    24100000           DKI Jakarta,Jakarta Selatan,Senayan   \n",
       "2        None          DKI Jakarta,Jakarta Selatan,Pancoran   \n",
       "3    79760000            DKI Jakarta,Jakarta Selatan,Kemang   \n",
       "4     2930000           DKI Jakarta,Jakarta Barat,Kalideres   \n",
       "5    57090000            DKI Jakarta,Jakarta Selatan,Kemang   \n",
       "6    14350000  DKI Jakarta,Jakarta Selatan,Mampang Prapatan   \n",
       "7    18360000     DKI Jakarta,Jakarta Selatan,Pesanggarahan   \n",
       "8    34430000            DKI Jakarta,Jakarta Selatan,Kemang   \n",
       "9    17210000            DKI Jakarta,Jakarta Selatan,Kemang   \n",
       "\n",
       "                                               title  \n",
       "0  Rumah di Kemang, Jakarta Selatan ~ Furnished ~...  \n",
       "1  Apartemen Senayan Residence ~ Fully Furnished ...  \n",
       "2                                         The Loggia  \n",
       "3  Kemang/Ampera-Murah ! Rumah 1 lantai halaman l...  \n",
       "4  Rumah Murah Minimalis Cambela Permai !!, Kalid...  \n",
       "5  Rumah Super Cantik @ Kemang Area Jakarta Selat...  \n",
       "6  Dijual Rumah Kos Baru @ Pondok Jaya., Mampang ...  \n",
       "7  permata mediterania pos pengumben jakarta sela...  \n",
       "8  @BANGKA~LB/LT : 350/152 ~FURNISH~6M ,JAKARTA S...  \n",
       "9  Apartmen Kemang Jaya ~  2 Bedrooms ~ Siap Huni...  "
      ]
     },
     "execution_count": 8,
     "metadata": {},
     "output_type": "execute_result"
    }
   ],
   "source": [
    "final_df2.head(10)"
   ]
  },
  {
   "cell_type": "code",
   "execution_count": 9,
   "metadata": {},
   "outputs": [],
   "source": [
    "location=[]\n",
    "for idx in range(0,final_df2.shape[0]):\n",
    "    if final_df2.loc[idx,\"lat\"]=='None':\n",
    "        tmp=None\n",
    "    else:\n",
    "        tmp= str(final_df2.loc[idx,\"lat\"])+\",\"+str(final_df2.loc[idx,\"lng\"])\n",
    "    location.append(tmp) \n",
    "    \n",
    "final_df2[\"location\"]= location"
   ]
  },
  {
   "cell_type": "code",
   "execution_count": 24,
   "metadata": {},
   "outputs": [],
   "source": [
    "from geopy.geocoders import Nominatim\n",
    "from geopy.exc import GeocoderTimedOut\n",
    "import time\n",
    "geolocator = Nominatim(user_agent=\"ashish\",timeout=None)\n",
    "loc_index= final_df2.loc[-final_df2.location.isna(),\"location\"].index"
   ]
  },
  {
   "cell_type": "code",
   "execution_count": 25,
   "metadata": {},
   "outputs": [],
   "source": [
    "def zip_code_cn(x):\n",
    "    loc=geolocator.reverse(x)\n",
    "    time.sleep(0.5)\n",
    "    return loc"
   ]
  },
  {
   "cell_type": "code",
   "execution_count": 26,
   "metadata": {},
   "outputs": [],
   "source": [
    "final_df2[\"Complete_Address\"]= None\n",
    "final_df2_1= final_df2.loc[loc_index,]"
   ]
  },
  {
   "cell_type": "code",
   "execution_count": 28,
   "metadata": {},
   "outputs": [],
   "source": [
    "Zip_code = final_df2_1.location.apply(lambda x: zip_code_cn(x))"
   ]
  },
  {
   "cell_type": "code",
   "execution_count": 29,
   "metadata": {
    "scrolled": true
   },
   "outputs": [
    {
     "data": {
      "text/plain": [
       "0      (RW 02, Gambir, Jakarta Pusat, JKT, 10110, NKR...\n",
       "1      (SMA Negeri 74 Jakarta, Jalan Dharma Putra XI,...\n",
       "3      (Gang Jawara, RW 03, Bangka, Mampang Prapatan,...\n",
       "4      (Gang H. Rawin, RW 03, Kamal, Kalideres, Jakar...\n",
       "7      (RT 01, RW 09, Ulujami, Pesanggrahan, Jakarta ...\n",
       "8      (Gang Jawara, RW 03, Bangka, Mampang Prapatan,...\n",
       "9      (RW 02, Gambir, Jakarta Pusat, JKT, 10110, NKR...\n",
       "10     (RW 02, Gambir, Jakarta Pusat, JKT, 10110, NKR...\n",
       "11     (RW 02, Gambir, Jakarta Pusat, JKT, 10110, NKR...\n",
       "12     (RW 02, Gambir, Jakarta Pusat, JKT, 10110, NKR...\n",
       "15     (RW 03, Pondok Kelapa, Duren Sawit, Jakarta Ti...\n",
       "16     (RW 06, Bintaro, Pesanggrahan, Jakarta Selatan...\n",
       "17     (RW 02, Gambir, Jakarta Pusat, JKT, 10110, NKR...\n",
       "18     (RW 05, Pondok Pinang, Kebayoran Lama, Jakarta...\n",
       "19     (Kantor RW 09, Jalan Pasar Baru Timur V, RT 15...\n",
       "20     (RW 02, Gambir, Jakarta Pusat, JKT, 10110, NKR...\n",
       "21     (SMA Negeri 74 Jakarta, Jalan Dharma Putra XI,...\n",
       "23     (Gang Jawara, RW 03, Bangka, Mampang Prapatan,...\n",
       "24     (Gang H. Rawin, RW 03, Kamal, Kalideres, Jakar...\n",
       "27     (RT 01, RW 09, Ulujami, Pesanggrahan, Jakarta ...\n",
       "28     (Gang Jawara, RW 03, Bangka, Mampang Prapatan,...\n",
       "29     (RW 02, Gambir, Jakarta Pusat, JKT, 10110, NKR...\n",
       "30     (RW 02, Gambir, Jakarta Pusat, JKT, 10110, NKR...\n",
       "31     (RW 02, Gambir, Jakarta Pusat, JKT, 10110, NKR...\n",
       "32     (RW 02, Gambir, Jakarta Pusat, JKT, 10110, NKR...\n",
       "35     (RW 03, Pondok Kelapa, Duren Sawit, Jakarta Ti...\n",
       "36     (RW 06, Bintaro, Pesanggrahan, Jakarta Selatan...\n",
       "37     (RW 02, Gambir, Jakarta Pusat, JKT, 10110, NKR...\n",
       "38     (RW 05, Pondok Pinang, Kebayoran Lama, Jakarta...\n",
       "39     (Kantor RW 09, Jalan Pasar Baru Timur V, RT 15...\n",
       "                             ...                        \n",
       "962    (STIE DR. Moechtar Talib, Jalan Pinang, RW 04,...\n",
       "966    (Bank Mandiri, Jalan Radio Dalam, RW 09, Ganda...\n",
       "967    (PT PLN Area Pelayanan Jaringan Cempaka Putih,...\n",
       "969    (Jalan Nipah IX, RT 08, RW 01, Petogogan, Keba...\n",
       "970    (RW 02, Gambir, Jakarta Pusat, JKT, 10110, NKR...\n",
       "974    (Badan Tenaga Atom Nasional, Kuningan Barat Ra...\n",
       "975    (Jalan Tanjung Palapa Komplek RRI, RW 01, Tanj...\n",
       "976    (Jalan Bunga Flamboyan III, RW 02, Cipete Sela...\n",
       "977    (RW 02, Gambir, Jakarta Pusat, JKT, 10110, NKR...\n",
       "978    (RW 02, Gambir, Jakarta Pusat, JKT, 10110, NKR...\n",
       "979    (Jalan Jambu, RW 02, Gondangdia, Menteng, Jaka...\n",
       "980    (Jalan Sunter Agung Utara D1, RW 18, Sunter Ag...\n",
       "981    (Jalan Alam Asri II, RW 16, Pondok Pinang, Keb...\n",
       "982    (Jalan Opek, RW 06, Cilandak Timur, Pasar Ming...\n",
       "983    (Kedutaan Besar Republik Islam Pakistan, Jalan...\n",
       "984    (Jalan Nipah IX, RT 08, RW 01, Petogogan, Keba...\n",
       "985    (Gang Jawara, RW 03, Bangka, Mampang Prapatan,...\n",
       "986    (Jalan H. Abu, RW 07, Cipete Selatan, Cilandak...\n",
       "987    (Jalan Nipah IX, RT 08, RW 01, Petogogan, Keba...\n",
       "988    (Pangkalanjati Baru, Jabar, 16431, NKRI, (-6.3...\n",
       "989    (Jalan Gandaria I, RW 10, Kramat Pela, Kebayor...\n",
       "990    (Jalan Pejaten Raya, RW 05, Pejaten Barat, Pas...\n",
       "991    (Jalan H. Abu, RW 07, Cipete Selatan, Cilandak...\n",
       "992    (Gang Jawara, RW 03, Bangka, Mampang Prapatan,...\n",
       "993    (Jalan H. Abu, RW 07, Cipete Selatan, Cilandak...\n",
       "994    (Metro Alam III, Jalan Metro Pondok Indah, RW ...\n",
       "995    (Sukatani-Dongkal, Sukatani, Kelurahan Sukatan...\n",
       "997    (Metro Alam III, Jalan Metro Pondok Indah, RW ...\n",
       "998    (RW 02, Gambir, Jakarta Pusat, JKT, 10110, NKR...\n",
       "999    (RT 07, RW 08, Kapuk Muara, Penjaringan, Jakar...\n",
       "Name: location, Length: 707, dtype: object"
      ]
     },
     "execution_count": 29,
     "metadata": {},
     "output_type": "execute_result"
    }
   ],
   "source": [
    "Zip_code"
   ]
  },
  {
   "cell_type": "code",
   "execution_count": 30,
   "metadata": {},
   "outputs": [
    {
     "name": "stderr",
     "output_type": "stream",
     "text": [
      "C:\\Users\\lokesh_pc\\AppData\\Roaming\\Python\\Python36\\site-packages\\ipykernel_launcher.py:3: FutureWarning: currently extract(expand=None) means expand=False (return Index/Series/DataFrame) but in a future version of pandas this will be changed to expand=True (return DataFrame)\n",
      "  This is separate from the ipykernel package so we can avoid doing imports until\n"
     ]
    }
   ],
   "source": [
    "Zip_code= Zip_code.apply(lambda x: x[0])\n",
    "final_df2.loc[Zip_code.index,\"Complete_Address\"]=Zip_code\n",
    "final_df2[\"Zip_code\"]= final_df2.Complete_Address.str.extract(r\"(\\d{5})\")"
   ]
  },
  {
   "cell_type": "code",
   "execution_count": 31,
   "metadata": {},
   "outputs": [],
   "source": [
    "pd.options.display.max_columns=None\n",
    "pd.set_option('display.max_rows',500)\n",
    "pd.set_option('display.max_columns',500)\n",
    "pd.set_option('display.width',1000)"
   ]
  },
  {
   "cell_type": "code",
   "execution_count": 32,
   "metadata": {
    "scrolled": true
   },
   "outputs": [
    {
     "data": {
      "text/html": [
       "<div>\n",
       "<style scoped>\n",
       "    .dataframe tbody tr th:only-of-type {\n",
       "        vertical-align: middle;\n",
       "    }\n",
       "\n",
       "    .dataframe tbody tr th {\n",
       "        vertical-align: top;\n",
       "    }\n",
       "\n",
       "    .dataframe thead th {\n",
       "        text-align: right;\n",
       "    }\n",
       "</style>\n",
       "<table border=\"1\" class=\"dataframe\">\n",
       "  <thead>\n",
       "    <tr style=\"text-align: right;\">\n",
       "      <th></th>\n",
       "      <th>Address</th>\n",
       "      <th>lat</th>\n",
       "      <th>lng</th>\n",
       "      <th>price</th>\n",
       "      <th>Installment</th>\n",
       "      <th>level</th>\n",
       "      <th>title</th>\n",
       "      <th>location</th>\n",
       "      <th>Complete_Address</th>\n",
       "      <th>Zip_code</th>\n",
       "    </tr>\n",
       "  </thead>\n",
       "  <tbody>\n",
       "    <tr>\n",
       "      <th>0</th>\n",
       "      <td>Kemang, Jakarta Selatan</td>\n",
       "      <td>-6.17544</td>\n",
       "      <td>106.828</td>\n",
       "      <td>7900000000</td>\n",
       "      <td>45330000</td>\n",
       "      <td>DKI Jakarta,Jakarta Selatan,Kemang</td>\n",
       "      <td>Rumah di Kemang, Jakarta Selatan ~ Furnished ~...</td>\n",
       "      <td>-6.175445,106.82800429999998</td>\n",
       "      <td>RW 02, Gambir, Jakarta Pusat, JKT, 10110, NKRI</td>\n",
       "      <td>10110</td>\n",
       "    </tr>\n",
       "    <tr>\n",
       "      <th>1</th>\n",
       "      <td>Senayan, Jakarta Selatan</td>\n",
       "      <td>-6.25046</td>\n",
       "      <td>106.787</td>\n",
       "      <td>4200000000</td>\n",
       "      <td>24100000</td>\n",
       "      <td>DKI Jakarta,Jakarta Selatan,Senayan</td>\n",
       "      <td>Apartemen Senayan Residence ~ Fully Furnished ...</td>\n",
       "      <td>-6.250460899999999,106.78665999999998</td>\n",
       "      <td>SMA Negeri 74 Jakarta, Jalan Dharma Putra XI, ...</td>\n",
       "      <td>12240</td>\n",
       "    </tr>\n",
       "    <tr>\n",
       "      <th>2</th>\n",
       "      <td>Pancoran, Jakarta Selatan</td>\n",
       "      <td>None</td>\n",
       "      <td>None</td>\n",
       "      <td>3500000000</td>\n",
       "      <td>None</td>\n",
       "      <td>DKI Jakarta,Jakarta Selatan,Pancoran</td>\n",
       "      <td>The Loggia</td>\n",
       "      <td>None</td>\n",
       "      <td>None</td>\n",
       "      <td>NaN</td>\n",
       "    </tr>\n",
       "    <tr>\n",
       "      <th>3</th>\n",
       "      <td>Kemang, Jakarta Selatan</td>\n",
       "      <td>-6.26694</td>\n",
       "      <td>106.824</td>\n",
       "      <td>13900000000</td>\n",
       "      <td>79760000</td>\n",
       "      <td>DKI Jakarta,Jakarta Selatan,Kemang</td>\n",
       "      <td>Kemang/Ampera-Murah ! Rumah 1 lantai halaman l...</td>\n",
       "      <td>-6.266939,106.82409800000005</td>\n",
       "      <td>Gang Jawara, RW 03, Bangka, Mampang Prapatan, ...</td>\n",
       "      <td>12730</td>\n",
       "    </tr>\n",
       "    <tr>\n",
       "      <th>4</th>\n",
       "      <td>Kalideres, Jakarta Barat</td>\n",
       "      <td>-6.09723</td>\n",
       "      <td>106.7</td>\n",
       "      <td>510000000</td>\n",
       "      <td>2930000</td>\n",
       "      <td>DKI Jakarta,Jakarta Barat,Kalideres</td>\n",
       "      <td>Rumah Murah Minimalis Cambela Permai !!, Kalid...</td>\n",
       "      <td>-6.0972271,106.6999002</td>\n",
       "      <td>Gang H. Rawin, RW 03, Kamal, Kalideres, Jakart...</td>\n",
       "      <td>15125</td>\n",
       "    </tr>\n",
       "  </tbody>\n",
       "</table>\n",
       "</div>"
      ],
      "text/plain": [
       "                     Address      lat      lng        price Installment                                 level                                              title                               location                                   Complete_Address Zip_code\n",
       "0    Kemang, Jakarta Selatan -6.17544  106.828   7900000000    45330000    DKI Jakarta,Jakarta Selatan,Kemang  Rumah di Kemang, Jakarta Selatan ~ Furnished ~...           -6.175445,106.82800429999998     RW 02, Gambir, Jakarta Pusat, JKT, 10110, NKRI    10110\n",
       "1   Senayan, Jakarta Selatan -6.25046  106.787   4200000000    24100000   DKI Jakarta,Jakarta Selatan,Senayan  Apartemen Senayan Residence ~ Fully Furnished ...  -6.250460899999999,106.78665999999998  SMA Negeri 74 Jakarta, Jalan Dharma Putra XI, ...    12240\n",
       "2  Pancoran, Jakarta Selatan     None     None   3500000000        None  DKI Jakarta,Jakarta Selatan,Pancoran                                         The Loggia                                   None                                               None      NaN\n",
       "3    Kemang, Jakarta Selatan -6.26694  106.824  13900000000    79760000    DKI Jakarta,Jakarta Selatan,Kemang  Kemang/Ampera-Murah ! Rumah 1 lantai halaman l...           -6.266939,106.82409800000005  Gang Jawara, RW 03, Bangka, Mampang Prapatan, ...    12730\n",
       "4   Kalideres, Jakarta Barat -6.09723    106.7    510000000     2930000   DKI Jakarta,Jakarta Barat,Kalideres  Rumah Murah Minimalis Cambela Permai !!, Kalid...                 -6.0972271,106.6999002  Gang H. Rawin, RW 03, Kamal, Kalideres, Jakart...    15125"
      ]
     },
     "execution_count": 32,
     "metadata": {},
     "output_type": "execute_result"
    }
   ],
   "source": [
    "final_df2.head()"
   ]
  },
  {
   "cell_type": "code",
   "execution_count": 33,
   "metadata": {},
   "outputs": [],
   "source": [
    "final_df2.to_csv(\"C:/Users/lokesh_pc/Hidden_Preffered_Project_Indonesia/Hidden_pref_sale.csv\",index=False)"
   ]
  },
  {
   "cell_type": "code",
   "execution_count": 35,
   "metadata": {},
   "outputs": [
    {
     "data": {
      "text/plain": [
       "(1000, 10)"
      ]
     },
     "execution_count": 35,
     "metadata": {},
     "output_type": "execute_result"
    }
   ],
   "source": [
    "final_df2.shape"
   ]
  },
  {
   "cell_type": "code",
   "execution_count": 34,
   "metadata": {},
   "outputs": [
    {
     "data": {
      "text/plain": [
       "301"
      ]
     },
     "execution_count": 34,
     "metadata": {},
     "output_type": "execute_result"
    }
   ],
   "source": [
    "final_df2.Zip_code.isnull().sum()"
   ]
  }
 ],
 "metadata": {
  "kernelspec": {
   "display_name": "Python 3",
   "language": "python",
   "name": "python3"
  },
  "language_info": {
   "codemirror_mode": {
    "name": "ipython",
    "version": 3
   },
   "file_extension": ".py",
   "mimetype": "text/x-python",
   "name": "python",
   "nbconvert_exporter": "python",
   "pygments_lexer": "ipython3",
   "version": "3.6.4"
  }
 },
 "nbformat": 4,
 "nbformat_minor": 2
}
